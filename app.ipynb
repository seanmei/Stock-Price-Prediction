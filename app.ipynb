{
 "metadata": {
  "language_info": {
   "codemirror_mode": {
    "name": "ipython",
    "version": 3
   },
   "file_extension": ".py",
   "mimetype": "text/x-python",
   "name": "python",
   "nbconvert_exporter": "python",
   "pygments_lexer": "ipython3",
   "version": "3.8.5-final"
  },
  "orig_nbformat": 2,
  "kernelspec": {
   "name": "python3",
   "display_name": "Python 3",
   "language": "python"
  }
 },
 "nbformat": 4,
 "nbformat_minor": 2,
 "cells": [
  {
   "cell_type": "code",
   "execution_count": 37,
   "metadata": {},
   "outputs": [],
   "source": [
    "#imports \n",
    "import math \n",
    "import pandas_datareader as web \n",
    "import numpy as np \n",
    "import pandas as pd \n",
    "from sklearn.preprocessing import MinMaxScaler\n",
    "from keras.models import Sequential\n",
    "from keras.layers import Dense, LSTM \n",
    "import matplotlib.pyplot as plt\n",
    "plt.style.use('fivethirtyeight')"
   ]
  },
  {
   "cell_type": "code",
   "execution_count": 41,
   "metadata": {},
   "outputs": [
    {
     "output_type": "execute_result",
     "data": {
      "text/plain": [
       "                  High         Low        Open       Close       Volume  \\\n",
       "Date                                                                      \n",
       "2012-01-03   14.732143   14.607143   14.621429   14.686786  302220800.0   \n",
       "2012-01-04   14.810000   14.617143   14.642857   14.765714  260022000.0   \n",
       "2012-01-05   14.948214   14.738214   14.819643   14.929643  271269600.0   \n",
       "2012-01-06   15.098214   14.972143   14.991786   15.085714  318292800.0   \n",
       "2012-01-09   15.276786   15.048214   15.196429   15.061786  394024400.0   \n",
       "...                ...         ...         ...         ...          ...   \n",
       "2020-12-23  132.429993  130.779999  132.160004  130.960007   88223700.0   \n",
       "2020-12-24  133.460007  131.100006  131.320007  131.970001   54930100.0   \n",
       "2020-12-28  137.339996  133.509995  133.990005  136.690002  124486200.0   \n",
       "2020-12-29  138.789993  134.339996  138.050003  134.869995  121047300.0   \n",
       "2020-12-30  135.990005  133.399994  135.580002  133.720001   96452100.0   \n",
       "\n",
       "             Adj Close  \n",
       "Date                    \n",
       "2012-01-03   12.669562  \n",
       "2012-01-04   12.737653  \n",
       "2012-01-05   12.879066  \n",
       "2012-01-06   13.013701  \n",
       "2012-01-09   12.993060  \n",
       "...                ...  \n",
       "2020-12-23  130.960007  \n",
       "2020-12-24  131.970001  \n",
       "2020-12-28  136.690002  \n",
       "2020-12-29  134.869995  \n",
       "2020-12-30  133.720001  \n",
       "\n",
       "[2264 rows x 6 columns]"
      ],
      "text/html": "<div>\n<style scoped>\n    .dataframe tbody tr th:only-of-type {\n        vertical-align: middle;\n    }\n\n    .dataframe tbody tr th {\n        vertical-align: top;\n    }\n\n    .dataframe thead th {\n        text-align: right;\n    }\n</style>\n<table border=\"1\" class=\"dataframe\">\n  <thead>\n    <tr style=\"text-align: right;\">\n      <th></th>\n      <th>High</th>\n      <th>Low</th>\n      <th>Open</th>\n      <th>Close</th>\n      <th>Volume</th>\n      <th>Adj Close</th>\n    </tr>\n    <tr>\n      <th>Date</th>\n      <th></th>\n      <th></th>\n      <th></th>\n      <th></th>\n      <th></th>\n      <th></th>\n    </tr>\n  </thead>\n  <tbody>\n    <tr>\n      <th>2012-01-03</th>\n      <td>14.732143</td>\n      <td>14.607143</td>\n      <td>14.621429</td>\n      <td>14.686786</td>\n      <td>302220800.0</td>\n      <td>12.669562</td>\n    </tr>\n    <tr>\n      <th>2012-01-04</th>\n      <td>14.810000</td>\n      <td>14.617143</td>\n      <td>14.642857</td>\n      <td>14.765714</td>\n      <td>260022000.0</td>\n      <td>12.737653</td>\n    </tr>\n    <tr>\n      <th>2012-01-05</th>\n      <td>14.948214</td>\n      <td>14.738214</td>\n      <td>14.819643</td>\n      <td>14.929643</td>\n      <td>271269600.0</td>\n      <td>12.879066</td>\n    </tr>\n    <tr>\n      <th>2012-01-06</th>\n      <td>15.098214</td>\n      <td>14.972143</td>\n      <td>14.991786</td>\n      <td>15.085714</td>\n      <td>318292800.0</td>\n      <td>13.013701</td>\n    </tr>\n    <tr>\n      <th>2012-01-09</th>\n      <td>15.276786</td>\n      <td>15.048214</td>\n      <td>15.196429</td>\n      <td>15.061786</td>\n      <td>394024400.0</td>\n      <td>12.993060</td>\n    </tr>\n    <tr>\n      <th>...</th>\n      <td>...</td>\n      <td>...</td>\n      <td>...</td>\n      <td>...</td>\n      <td>...</td>\n      <td>...</td>\n    </tr>\n    <tr>\n      <th>2020-12-23</th>\n      <td>132.429993</td>\n      <td>130.779999</td>\n      <td>132.160004</td>\n      <td>130.960007</td>\n      <td>88223700.0</td>\n      <td>130.960007</td>\n    </tr>\n    <tr>\n      <th>2020-12-24</th>\n      <td>133.460007</td>\n      <td>131.100006</td>\n      <td>131.320007</td>\n      <td>131.970001</td>\n      <td>54930100.0</td>\n      <td>131.970001</td>\n    </tr>\n    <tr>\n      <th>2020-12-28</th>\n      <td>137.339996</td>\n      <td>133.509995</td>\n      <td>133.990005</td>\n      <td>136.690002</td>\n      <td>124486200.0</td>\n      <td>136.690002</td>\n    </tr>\n    <tr>\n      <th>2020-12-29</th>\n      <td>138.789993</td>\n      <td>134.339996</td>\n      <td>138.050003</td>\n      <td>134.869995</td>\n      <td>121047300.0</td>\n      <td>134.869995</td>\n    </tr>\n    <tr>\n      <th>2020-12-30</th>\n      <td>135.990005</td>\n      <td>133.399994</td>\n      <td>135.580002</td>\n      <td>133.720001</td>\n      <td>96452100.0</td>\n      <td>133.720001</td>\n    </tr>\n  </tbody>\n</table>\n<p>2264 rows × 6 columns</p>\n</div>"
     },
     "metadata": {},
     "execution_count": 41
    }
   ],
   "source": [
    "#get stock quote \n",
    "dataFrame = web.DataReader('AAPL', data_source='yahoo', start='2012-01-01', end='2020-12-30')\n",
    "#show data \n",
    "dataFrame"
   ]
  },
  {
   "cell_type": "code",
   "execution_count": null,
   "metadata": {},
   "outputs": [],
   "source": []
  }
 ]
}